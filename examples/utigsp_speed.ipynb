{
 "cells": [
  {
   "cell_type": "code",
   "execution_count": 1,
   "metadata": {},
   "outputs": [],
   "source": [
    "import causaldag as cd\n",
    "from causaldag import unknown_target_igsp\n",
    "from causaldag.utils.ci_tests import gauss_ci_test, MemoizedCI_Tester, gauss_ci_suffstat\n",
    "from causaldag.utils.invariance_tests import MemoizedInvarianceTester, gauss_invariance_test, gauss_invariance_suffstat\n",
    "import numpy as np\n",
    "from pprint import pprint\n",
    "import random\n",
    "from tqdm import tqdm\n",
    "from scipy.stats import describe"
   ]
  },
  {
   "cell_type": "code",
   "execution_count": 2,
   "metadata": {},
   "outputs": [],
   "source": [
    "np.random.seed(375296)\n",
    "random.seed(827642)"
   ]
  },
  {
   "cell_type": "code",
   "execution_count": 3,
   "metadata": {},
   "outputs": [],
   "source": [
    "def setup_dag(gdag, num_known, num_unknown, num_settings):\n",
    "    # RANDOMLY PICK TARGETS\n",
    "    known_targets_list = [\n",
    "        set(random.sample(nodes, num_known)) \n",
    "        for _ in range(num_settings)\n",
    "    ]\n",
    "    unknown_targets_list = [\n",
    "        set(random.sample(nodes-known_targets, num_unknown))\n",
    "        for known_targets in known_targets_list\n",
    "    ]\n",
    "    setting_list = [\n",
    "        dict(known_interventions=targets) \n",
    "        for targets in known_targets_list\n",
    "    ]\n",
    "    \n",
    "    # TURN TARGETS INTO INTERVENTIONS\n",
    "    ivs = [\n",
    "        {target: cd.ShiftIntervention(1) for target in known_targets|unknown_targets}\n",
    "        for known_targets, unknown_targets in zip(known_targets_list, unknown_targets_list)\n",
    "    ]\n",
    "    \n",
    "    # GET SAMPLES\n",
    "    obs_samples = gdag.sample(nsamples)\n",
    "    iv_samples_list = [gdag.sample_interventional(iv, nsamples) for iv in ivs]\n",
    "    \n",
    "    # CREATE SUFFICIENT STATISTICS\n",
    "    suffstat = gauss_ci_suffstat(obs_samples)\n",
    "    inv_suffstat = gauss_invariance_suffstat(obs_samples, iv_samples_list)\n",
    "    \n",
    "    # CREATE CI TESTERS\n",
    "    ci_tester =  MemoizedCI_Tester(gauss_ci_test, suffstat, alpha=1e-5)\n",
    "    invariance_tester = MemoizedInvarianceTester(gauss_invariance_test, inv_suffstat, alpha=1e-5)\n",
    "    \n",
    "    return setting_list, ci_tester, invariance_tester, known_targets_list, unknown_targets_list"
   ]
  },
  {
   "cell_type": "code",
   "execution_count": 4,
   "metadata": {},
   "outputs": [],
   "source": [
    "nnodes = 100\n",
    "nodes = set(range(nnodes))\n",
    "exp_nbrs = 1.5\n",
    "ngraphs = 50\n",
    "nsamples = 1000\n",
    "num_settings = 5\n",
    "num_known = 1\n",
    "num_unknown = 3\n",
    "\n",
    "dags = cd.rand.directed_erdos(nnodes, exp_nbrs/(nnodes-1), ngraphs)\n",
    "cpdags = [dag.cpdag() for dag in dags]\n",
    "gdags = [cd.rand.rand_weights(d) for d in dags]\n",
    "alg_info_list = [setup_dag(g, num_known, num_unknown, num_settings) for g in gdags]\n",
    "_, _, _, dags2known_target_list, dags2unknown_target_list = zip(*alg_info_list)"
   ]
  },
  {
   "cell_type": "code",
   "execution_count": 5,
   "metadata": {},
   "outputs": [
    {
     "name": "stderr",
     "output_type": "stream",
     "text": [
      "100%|██████████| 50/50 [19:39<00:00, 23.59s/it]\n"
     ]
    }
   ],
   "source": [
    "est_dags = []\n",
    "est_targets_list = []\n",
    "for setting_list, ci_tester, inv_tester, _, _ in tqdm(alg_info_list):\n",
    "    est_dag, est_targets = unknown_target_igsp(setting_list, nodes, ci_tester, inv_tester)\n",
    "    est_dags.append(est_dag)\n",
    "    est_targets_list.append(est_targets)"
   ]
  },
  {
   "cell_type": "code",
   "execution_count": 6,
   "metadata": {},
   "outputs": [],
   "source": [
    "est_cpdags = [est_dag.cpdag() for est_dag in est_dags]\n",
    "shds = [est_cpdag.shd(cpdag) for est_cpdag, cpdag in zip(est_cpdags, cpdags)]"
   ]
  },
  {
   "cell_type": "code",
   "execution_count": 7,
   "metadata": {},
   "outputs": [
    {
     "data": {
      "text/plain": [
       "DescribeResult(nobs=50, minmax=(5, 35), mean=18.28, variance=91.9608163265306, skewness=0.38337613969156975, kurtosis=-1.207439115817538)"
      ]
     },
     "execution_count": 7,
     "metadata": {},
     "output_type": "execute_result"
    }
   ],
   "source": [
    "describe(shds)"
   ]
  },
  {
   "cell_type": "code",
   "execution_count": null,
   "metadata": {},
   "outputs": [],
   "source": []
  }
 ],
 "metadata": {
  "kernelspec": {
   "display_name": "causaldag_examples",
   "language": "python",
   "name": "causaldag_examples"
  },
  "language_info": {
   "codemirror_mode": {
    "name": "ipython",
    "version": 3
   },
   "file_extension": ".py",
   "mimetype": "text/x-python",
   "name": "python",
   "nbconvert_exporter": "python",
   "pygments_lexer": "ipython3",
   "version": "3.6.9"
  }
 },
 "nbformat": 4,
 "nbformat_minor": 4
}
