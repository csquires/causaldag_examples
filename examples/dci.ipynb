{
 "cells": [
  {
   "cell_type": "code",
   "execution_count": 11,
   "metadata": {},
   "outputs": [],
   "source": [
    "import causaldag as cd\n",
    "from causaldag.structure_learning.difference import dci\n",
    "from random import sample\n",
    "from causaldag.rand.graphs import unif_away_zero\n",
    "import itertools as itr\n",
    "from causaldag.utils.ci_tests import gauss_ci_suffstat\n",
    "import numpy as np\n",
    "import random"
   ]
  },
  {
   "cell_type": "markdown",
   "metadata": {},
   "source": [
    "### Helper functions for generating related but different DAGs"
   ]
  },
  {
   "cell_type": "code",
   "execution_count": 12,
   "metadata": {},
   "outputs": [],
   "source": [
    "def bounded_change(current_weight):\n",
    "    if current_weight < 0:\n",
    "        return random.uniform(.25, 1)\n",
    "    if current_weight > 0:\n",
    "        return random.uniform(-1, -.25)\n",
    "\n",
    "def change_dag(dag, na, nr, nc, rand_change_fn=bounded_change, rand_weight_fn=unif_away_zero):\n",
    "    na, nr, nc = int(na), int(nr), int(nc)\n",
    "    removed_arcs = sample(dag.arcs, nr)\n",
    "    changed_arcs = sample(dag.arcs-set(removed_arcs), nc)\n",
    "    added_arcs = sample(set(itr.combinations(dag.nodes, 2))-dag.arcs, na)\n",
    "    \n",
    "    old_amat = dag.to_amat()\n",
    "    new_amat = old_amat.copy()\n",
    "    for i, j in removed_arcs:\n",
    "        new_amat[i, j] = 0\n",
    "    for i, j in changed_arcs:\n",
    "        new_amat[i, j] = rand_change_fn(old_amat[i, j])\n",
    "    for i, j in added_arcs:\n",
    "        new_amat[i, j] = rand_weight_fn()\n",
    "    \n",
    "    return cd.GaussDAG.from_amat(new_amat)"
   ]
  },
  {
   "cell_type": "markdown",
   "metadata": {},
   "source": [
    "### Generate two DAGs and samples"
   ]
  },
  {
   "cell_type": "code",
   "execution_count": 13,
   "metadata": {},
   "outputs": [],
   "source": [
    "random.seed(9348268)\n",
    "\n",
    "nnodes = 10\n",
    "nodes = set(range(nnodes))\n",
    "exp_nbrs = 5\n",
    "percent_added = .1\n",
    "percent_removed = .1\n",
    "percent_changed = .1\n",
    "\n",
    "d1 = cd.rand.directed_erdos(nnodes, exp_nbrs/(nnodes-1))\n",
    "g1 = cd.rand.rand_weights(d1)\n",
    "g2 = change_dag(\n",
    "    g1, \n",
    "    percent_added*(nnodes*(nnodes-1)/2 - d1.num_arcs), \n",
    "    percent_removed*d1.num_arcs, \n",
    "    percent_changed*d1.num_arcs\n",
    ")\n",
    "true_difference = {(i, j) for (i, j), val in np.ndenumerate(g1.to_amat() - g2.to_amat()) if val != 0}"
   ]
  },
  {
   "cell_type": "code",
   "execution_count": 14,
   "metadata": {},
   "outputs": [],
   "source": [
    "n1 = 10000\n",
    "n2 = 10000\n",
    "samples1 = g1.sample(n1)\n",
    "samples2 = g2.sample(n2)\n",
    "suff1 = gauss_ci_suffstat(samples1)\n",
    "suff2 = gauss_ci_suffstat(samples2)"
   ]
  },
  {
   "cell_type": "markdown",
   "metadata": {},
   "source": [
    "### Run DCI with oracle difference UG"
   ]
  },
  {
   "cell_type": "code",
   "execution_count": 15,
   "metadata": {},
   "outputs": [
    {
     "name": "stdout",
     "output_type": "stream",
     "text": [
      "True\n"
     ]
    }
   ],
   "source": [
    "oracle_dug = {\n",
    "    frozenset({i, j}) for (i, j), val in np.ndenumerate(g1.precision - g2.precision) \n",
    "    if val != 0 and i != j\n",
    "}\n",
    "print({frozenset({i, j}) for i, j in true_difference} <= oracle_dug)"
   ]
  },
  {
   "cell_type": "code",
   "execution_count": 20,
   "metadata": {},
   "outputs": [
    {
     "name": "stdout",
     "output_type": "stream",
     "text": [
      "Oriented edges: {(5, 6), (2, 8), (6, 9), (0, 1)}\n",
      "Unoriented edges: set()\n",
      "True difference: {(0, 1), (6, 9), (5, 6), (2, 8), (5, 7), (3, 7)}\n"
     ]
    }
   ],
   "source": [
    "alpha_skeleton = .5\n",
    "alpha_orient = .01\n",
    "max_set_size = None\n",
    "\n",
    "oriented_edges, unoriented_edges = dci(\n",
    "    nodes, \n",
    "    oracle_dug, \n",
    "    suff1, \n",
    "    suff2, \n",
    "    alpha_skeleton=alpha_skeleton, \n",
    "    alpha_orient=alpha_orient, \n",
    "    max_set_size=max_set_size\n",
    ")\n",
    "\n",
    "print(\"Oriented edges:\", oriented_edges)\n",
    "print(\"Unoriented edges:\", unoriented_edges)\n",
    "print(\"True difference:\", true_difference)"
   ]
  },
  {
   "cell_type": "code",
   "execution_count": null,
   "metadata": {},
   "outputs": [],
   "source": []
  }
 ],
 "metadata": {
  "kernelspec": {
   "display_name": "causaldag_examples",
   "language": "python",
   "name": "causaldag_examples"
  },
  "language_info": {
   "codemirror_mode": {
    "name": "ipython",
    "version": 3
   },
   "file_extension": ".py",
   "mimetype": "text/x-python",
   "name": "python",
   "nbconvert_exporter": "python",
   "pygments_lexer": "ipython3",
   "version": "3.6.9"
  }
 },
 "nbformat": 4,
 "nbformat_minor": 4
}
