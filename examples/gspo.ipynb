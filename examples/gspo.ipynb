{
 "cells": [
  {
   "cell_type": "code",
   "execution_count": 1,
   "metadata": {},
   "outputs": [],
   "source": [
    "from causaldag.structure_learning import gspo\n",
    "import causaldag as cd\n",
    "import random\n",
    "import numpy as np\n",
    "from causaldag.utils.ci_tests import MemoizedCI_Tester, gauss_ci_test, gauss_ci_suffstat, msep_test"
   ]
  },
  {
   "cell_type": "markdown",
   "metadata": {},
   "source": [
    "## Setup graph, samples, and sufficient statistic"
   ]
  },
  {
   "cell_type": "code",
   "execution_count": 2,
   "metadata": {},
   "outputs": [],
   "source": [
    "nnodes = 5\n",
    "nodes = set(range(nnodes))\n",
    "nlatent = 3\n",
    "exp_nbrs = 3\n",
    "nsamples = 5000"
   ]
  },
  {
   "cell_type": "markdown",
   "metadata": {},
   "source": [
    "Sample a random Erdos-Renyi DAG with random weights. Then, take $n$ samples and forget the first `nlatent` values."
   ]
  },
  {
   "cell_type": "code",
   "execution_count": 3,
   "metadata": {},
   "outputs": [],
   "source": [
    "random.seed(869674)\n",
    "np.random.seed(986)\n",
    "\n",
    "dag = cd.rand.directed_erdos(nnodes+nlatent, exp_nbrs/(nnodes+nlatent/2))\n",
    "gdag = cd.rand.rand_weights(dag)\n",
    "all_samples = gdag.sample(nsamples)\n",
    "observed_samples = all_samples[:, nlatent:]"
   ]
  },
  {
   "cell_type": "markdown",
   "metadata": {},
   "source": [
    "Compute the sufficient statistics for the conditional independence test you are using. Pass those sufficient statistics and the conditional independence testing function to a `CI_Tester`. In this case, we use partial-correlation based CI testing."
   ]
  },
  {
   "cell_type": "code",
   "execution_count": 4,
   "metadata": {},
   "outputs": [],
   "source": [
    "suffstat = gauss_ci_suffstat(observed_samples)\n",
    "ci_tester = MemoizedCI_Tester(gauss_ci_test, suffstat, alpha=.01)"
   ]
  },
  {
   "cell_type": "markdown",
   "metadata": {},
   "source": [
    "## Estimate the MAG and compare to the true MAG"
   ]
  },
  {
   "cell_type": "markdown",
   "metadata": {},
   "source": [
    "Compute the ground-truth MAG."
   ]
  },
  {
   "cell_type": "code",
   "execution_count": 5,
   "metadata": {},
   "outputs": [],
   "source": [
    "mag = dag.marginal_mag(set(range(nlatent)), relabel='default')"
   ]
  },
  {
   "cell_type": "code",
   "execution_count": 6,
   "metadata": {},
   "outputs": [
    {
     "name": "stdout",
     "output_type": "stream",
     "text": [
      "Directed edges: {(1, 2), (0, 4), (3, 4), (1, 0), (3, 2), (1, 4)}\n",
      "Bidirected edges: {frozenset({0, 2}), frozenset({1, 3}), frozenset({0, 3})}\n"
     ]
    }
   ],
   "source": [
    "print(\"Directed edges:\", mag.directed)\n",
    "print(\"Bidirected edges:\", mag.bidirected)"
   ]
  },
  {
   "cell_type": "markdown",
   "metadata": {},
   "source": [
    "Estimate a MAG using GSPo."
   ]
  },
  {
   "cell_type": "code",
   "execution_count": 7,
   "metadata": {
    "scrolled": true
   },
   "outputs": [
    {
     "name": "stderr",
     "output_type": "stream",
     "text": [
      "/home/csquires/Documents/projects/causaldag/causaldag/structure_learning/undirected.py:45: RuntimeWarning: invalid value encountered in greater\n",
      "  zero_ixs = p_values > alpha\n"
     ]
    }
   ],
   "source": [
    "est_mag = gspo(nodes, ci_tester)"
   ]
  },
  {
   "cell_type": "code",
   "execution_count": 8,
   "metadata": {},
   "outputs": [
    {
     "name": "stdout",
     "output_type": "stream",
     "text": [
      "Estimated directed edges: {(2, 3), (0, 4), (3, 4), (1, 4), (3, 0)}\n",
      "Estimated bidirected edges: {frozenset({0, 1}), frozenset({1, 3}), frozenset({1, 2})}\n"
     ]
    }
   ],
   "source": [
    "print(\"Estimated directed edges:\", est_mag.directed)\n",
    "print(\"Estimated bidirected edges:\", est_mag.bidirected)"
   ]
  },
  {
   "cell_type": "code",
   "execution_count": 9,
   "metadata": {},
   "outputs": [
    {
     "data": {
      "text/plain": [
       "1"
      ]
     },
     "execution_count": 9,
     "metadata": {},
     "output_type": "execute_result"
    }
   ],
   "source": [
    "est_mag.shd_skeleton(mag)"
   ]
  },
  {
   "cell_type": "code",
   "execution_count": 10,
   "metadata": {},
   "outputs": [
    {
     "data": {
      "text/plain": [
       "False"
      ]
     },
     "execution_count": 10,
     "metadata": {},
     "output_type": "execute_result"
    }
   ],
   "source": [
    "est_mag.markov_equivalent(mag)"
   ]
  },
  {
   "cell_type": "markdown",
   "metadata": {},
   "source": [
    "## Oracle Estimation"
   ]
  },
  {
   "cell_type": "markdown",
   "metadata": {},
   "source": [
    "We can also use m-separation in the true graph as our CI tester to check consistency of the algorithm."
   ]
  },
  {
   "cell_type": "code",
   "execution_count": 11,
   "metadata": {},
   "outputs": [],
   "source": [
    "oracle_ci_tester = MemoizedCI_Tester(msep_test, mag)"
   ]
  },
  {
   "cell_type": "code",
   "execution_count": 12,
   "metadata": {},
   "outputs": [],
   "source": [
    "est_mag_oracle = gspo(nodes, oracle_ci_tester)"
   ]
  },
  {
   "cell_type": "code",
   "execution_count": 13,
   "metadata": {},
   "outputs": [
    {
     "name": "stdout",
     "output_type": "stream",
     "text": [
      "Estimated directed edges: {(1, 2), (0, 4), (3, 4), (3, 1), (2, 0), (1, 4), (3, 0), (1, 0), (3, 2)}\n",
      "Estimated bidirected edges: set()\n"
     ]
    }
   ],
   "source": [
    "print(\"Estimated directed edges:\", est_mag_oracle.directed)\n",
    "print(\"Estimated bidirected edges:\", est_mag_oracle.bidirected)"
   ]
  },
  {
   "cell_type": "code",
   "execution_count": 14,
   "metadata": {},
   "outputs": [
    {
     "data": {
      "text/plain": [
       "True"
      ]
     },
     "execution_count": 14,
     "metadata": {},
     "output_type": "execute_result"
    }
   ],
   "source": [
    "est_mag_oracle.markov_equivalent(mag)"
   ]
  }
 ],
 "metadata": {
  "kernelspec": {
   "display_name": "causaldag_examples",
   "language": "python",
   "name": "causaldag_examples"
  },
  "language_info": {
   "codemirror_mode": {
    "name": "ipython",
    "version": 3
   },
   "file_extension": ".py",
   "mimetype": "text/x-python",
   "name": "python",
   "nbconvert_exporter": "python",
   "pygments_lexer": "ipython3",
   "version": "3.8.5"
  }
 },
 "nbformat": 4,
 "nbformat_minor": 4
}
