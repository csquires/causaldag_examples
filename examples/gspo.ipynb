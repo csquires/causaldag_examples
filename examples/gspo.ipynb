{
 "cells": [
  {
   "cell_type": "code",
   "execution_count": 1,
   "metadata": {},
   "outputs": [
    {
     "name": "stderr",
     "output_type": "stream",
     "text": [
      "/Users/chandlersquires/Documents/projects/other/causaldag_examples/venv/lib/python3.9/site-packages/tqdm/auto.py:22: TqdmWarning: IProgress not found. Please update jupyter and ipywidgets. See https://ipywidgets.readthedocs.io/en/stable/user_install.html\n",
      "  from .autonotebook import tqdm as notebook_tqdm\n"
     ]
    }
   ],
   "source": [
    "from causaldag import gspo\n",
    "import causaldag as cd\n",
    "import random\n",
    "import numpy as np\n",
    "from causaldag import MemoizedCI_Tester, partial_correlation_test, partial_correlation_suffstat, msep_test"
   ]
  },
  {
   "cell_type": "markdown",
   "metadata": {},
   "source": [
    "## Setup graph, samples, and sufficient statistic"
   ]
  },
  {
   "cell_type": "code",
   "execution_count": 2,
   "metadata": {},
   "outputs": [],
   "source": [
    "nnodes = 5\n",
    "nodes = set(range(nnodes))\n",
    "nlatent = 3\n",
    "exp_nbrs = 3\n",
    "nsamples = 5000"
   ]
  },
  {
   "cell_type": "markdown",
   "metadata": {},
   "source": [
    "Sample a random Erdos-Renyi DAG with random weights. Then, take $n$ samples and forget the first `nlatent` values."
   ]
  },
  {
   "cell_type": "code",
   "execution_count": 3,
   "metadata": {},
   "outputs": [],
   "source": [
    "random.seed(869674)\n",
    "np.random.seed(986)\n",
    "\n",
    "dag = cd.rand.directed_erdos(nnodes+nlatent, exp_nbrs/(nnodes+nlatent/2))\n",
    "gdag = cd.rand.rand_weights(dag)\n",
    "all_samples = gdag.sample(nsamples)\n",
    "observed_samples = all_samples[:, nlatent:]"
   ]
  },
  {
   "cell_type": "markdown",
   "metadata": {},
   "source": [
    "Compute the sufficient statistics for the conditional independence test you are using. Pass those sufficient statistics and the conditional independence testing function to a `CI_Tester`. In this case, we use partial-correlation based CI testing."
   ]
  },
  {
   "cell_type": "code",
   "execution_count": 4,
   "metadata": {},
   "outputs": [],
   "source": [
    "suffstat = partial_correlation_suffstat(observed_samples)\n",
    "ci_tester = MemoizedCI_Tester(partial_correlation_test, suffstat, alpha=.01)"
   ]
  },
  {
   "cell_type": "markdown",
   "metadata": {},
   "source": [
    "## Estimate the MAG and compare to the true MAG"
   ]
  },
  {
   "cell_type": "markdown",
   "metadata": {},
   "source": [
    "Compute the ground-truth MAG."
   ]
  },
  {
   "cell_type": "code",
   "execution_count": 5,
   "metadata": {},
   "outputs": [
    {
     "name": "stderr",
     "output_type": "stream",
     "text": [
      "/Users/chandlersquires/Documents/projects/other/causaldag_examples/venv/lib/python3.9/site-packages/graphical_models/custom_types.py:13: UserWarning: [Need name!] still needs to be tested. If you intend to use this method, please submit a pull request.\n",
      "  warn(s)\n"
     ]
    }
   ],
   "source": [
    "mag = dag.marginal_mag(set(range(nlatent)), relabel='default')"
   ]
  },
  {
   "cell_type": "code",
   "execution_count": 6,
   "metadata": {},
   "outputs": [
    {
     "name": "stdout",
     "output_type": "stream",
     "text": [
      "Directed edges: {(1, 2), (0, 4), (3, 4), (1, 0), (3, 2), (1, 4)}\n",
      "Bidirected edges: {frozenset({0, 2}), frozenset({1, 3}), frozenset({0, 3})}\n"
     ]
    }
   ],
   "source": [
    "print(\"Directed edges:\", mag.directed)\n",
    "print(\"Bidirected edges:\", mag.bidirected)"
   ]
  },
  {
   "cell_type": "markdown",
   "metadata": {},
   "source": [
    "Estimate a MAG using GSPo."
   ]
  },
  {
   "cell_type": "code",
   "execution_count": 7,
   "metadata": {
    "scrolled": true
   },
   "outputs": [],
   "source": [
    "est_mag = gspo(nodes, ci_tester)"
   ]
  },
  {
   "cell_type": "code",
   "execution_count": 8,
   "metadata": {},
   "outputs": [
    {
     "name": "stdout",
     "output_type": "stream",
     "text": [
      "Estimated directed edges: {(2, 3), (0, 4), (3, 4), (1, 4), (3, 0)}\n",
      "Estimated bidirected edges: {frozenset({0, 1}), frozenset({1, 3}), frozenset({1, 2})}\n"
     ]
    }
   ],
   "source": [
    "print(\"Estimated directed edges:\", est_mag.directed)\n",
    "print(\"Estimated bidirected edges:\", est_mag.bidirected)"
   ]
  },
  {
   "cell_type": "code",
   "execution_count": 9,
   "metadata": {},
   "outputs": [
    {
     "data": {
      "text/plain": [
       "1"
      ]
     },
     "execution_count": 9,
     "metadata": {},
     "output_type": "execute_result"
    }
   ],
   "source": [
    "est_mag.shd_skeleton(mag)"
   ]
  },
  {
   "cell_type": "code",
   "execution_count": 10,
   "metadata": {},
   "outputs": [
    {
     "data": {
      "text/plain": [
       "False"
      ]
     },
     "execution_count": 10,
     "metadata": {},
     "output_type": "execute_result"
    }
   ],
   "source": [
    "est_mag.markov_equivalent(mag)"
   ]
  },
  {
   "cell_type": "markdown",
   "metadata": {},
   "source": [
    "## Oracle Estimation"
   ]
  },
  {
   "cell_type": "markdown",
   "metadata": {},
   "source": [
    "We can also use m-separation in the true graph as our CI tester to check consistency of the algorithm."
   ]
  },
  {
   "cell_type": "code",
   "execution_count": 11,
   "metadata": {},
   "outputs": [],
   "source": [
    "oracle_ci_tester = MemoizedCI_Tester(msep_test, mag)"
   ]
  },
  {
   "cell_type": "code",
   "execution_count": 12,
   "metadata": {},
   "outputs": [],
   "source": [
    "est_mag_oracle = gspo(nodes, oracle_ci_tester)"
   ]
  },
  {
   "cell_type": "code",
   "execution_count": 13,
   "metadata": {},
   "outputs": [
    {
     "name": "stdout",
     "output_type": "stream",
     "text": [
      "Estimated directed edges: {(1, 2), (0, 4), (3, 4), (3, 1), (2, 0), (1, 4), (3, 0), (1, 0), (3, 2)}\n",
      "Estimated bidirected edges: set()\n"
     ]
    }
   ],
   "source": [
    "print(\"Estimated directed edges:\", est_mag_oracle.directed)\n",
    "print(\"Estimated bidirected edges:\", est_mag_oracle.bidirected)"
   ]
  },
  {
   "cell_type": "code",
   "execution_count": 14,
   "metadata": {},
   "outputs": [
    {
     "data": {
      "text/plain": [
       "True"
      ]
     },
     "execution_count": 14,
     "metadata": {},
     "output_type": "execute_result"
    }
   ],
   "source": [
    "est_mag_oracle.markov_equivalent(mag)"
   ]
  },
  {
   "attachments": {},
   "cell_type": "markdown",
   "metadata": {},
   "source": [
    "# Methods"
   ]
  },
  {
   "cell_type": "code",
   "execution_count": 18,
   "metadata": {},
   "outputs": [
    {
     "name": "stdout",
     "output_type": "stream",
     "text": [
      "['add_bidirected', 'add_directed', 'add_node', 'add_nodes_from', 'add_undirected', 'ancestor_dict', 'ancestors_of', 'as_hashed', 'bidirected', 'c_components', 'children_of', 'colliders', 'copy', 'descendant_dict', 'descendants_of', 'directed', 'discriminating_paths', 'discriminating_triples', 'district_of', 'fast_markov_equivalent', 'from_amat', 'get_all_mec', 'has_any_edge', 'has_bidirected', 'has_directed', 'has_undirected', 'induced_subgraph', 'is_imap', 'is_maximal', 'is_minimal_imap', 'is_minimal_imap2', 'is_minimal_imap3', 'is_minimal_imap4', 'legitimate_mark_changes', 'markov_blanket_of', 'markov_equivalent', 'msep', 'msep_from_given', 'neighbors_of', 'nnodes', 'nodes', 'num_bidirected', 'num_directed', 'num_edges', 'num_undirected', 'pairwise_markov_statements', 'parents_of', 'remove_bidirected', 'remove_directed', 'remove_edge', 'remove_edges', 'remove_node', 'remove_undirected', 'resolved_quasisinks', 'shd_skeleton', 'skeleton', 'spouses_of', 'to_amat', 'to_maximal', 'to_pag', 'topological_sort', 'undirected', 'vstructures']\n"
     ]
    }
   ],
   "source": [
    "print([m for m in dir(mag) if not m.startswith('_')])"
   ]
  },
  {
   "cell_type": "code",
   "execution_count": 19,
   "metadata": {},
   "outputs": [
    {
     "name": "stdout",
     "output_type": "stream",
     "text": [
      "[[0. 3. 2. 2. 2.]\n",
      " [2. 0. 2. 2. 2.]\n",
      " [2. 3. 0. 3. 0.]\n",
      " [2. 2. 2. 0. 2.]\n",
      " [3. 3. 0. 3. 0.]]\n"
     ]
    }
   ],
   "source": [
    "print(mag.to_amat())"
   ]
  },
  {
   "cell_type": "code",
   "execution_count": 20,
   "metadata": {},
   "outputs": [
    {
     "name": "stdout",
     "output_type": "stream",
     "text": [
      "Directed edges: {(1, 2), (0, 4), (3, 4), (1, 0), (3, 2), (1, 4)}\n",
      "Bidirected edges: {frozenset({0, 2}), frozenset({1, 3}), frozenset({0, 3})}\n"
     ]
    }
   ],
   "source": [
    "print(\"Directed edges:\", mag.directed)\n",
    "print(\"Bidirected edges:\", mag.bidirected)"
   ]
  },
  {
   "attachments": {},
   "cell_type": "markdown",
   "metadata": {},
   "source": [
    "Observe that A_{ij} = 2 if there is an arrowhead at j on the edge i-j, and A_{ij} = 3 if there is a tail.\n",
    "\n",
    "For example, we have 1->0, and thus A_{10} = 2 while A_{01} = 3. Meanwhile, we have 0 <-> 2, thus A_{02} = A_{20} = 2."
   ]
  },
  {
   "cell_type": "markdown",
   "metadata": {},
   "source": []
  }
 ],
 "metadata": {
  "kernelspec": {
   "display_name": "causaldag_examples",
   "language": "python",
   "name": "causaldag_examples"
  },
  "language_info": {
   "codemirror_mode": {
    "name": "ipython",
    "version": 3
   },
   "file_extension": ".py",
   "mimetype": "text/x-python",
   "name": "python",
   "nbconvert_exporter": "python",
   "pygments_lexer": "ipython3",
   "version": "3.9.1"
  }
 },
 "nbformat": 4,
 "nbformat_minor": 4
}
