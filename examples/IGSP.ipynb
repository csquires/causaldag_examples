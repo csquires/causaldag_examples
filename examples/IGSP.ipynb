{
 "cells": [
  {
   "cell_type": "code",
   "execution_count": 1,
   "metadata": {
    "ExecuteTime": {
     "end_time": "2020-03-12T15:21:17.573659Z",
     "start_time": "2020-03-12T15:21:14.590818Z"
    }
   },
   "outputs": [],
   "source": [
    "import causaldag as cd\n",
    "\n",
    "from causaldag import igsp\n",
    "from causaldag import partial_correlation_test, MemoizedCI_Tester, partial_correlation_suffstat\n",
    "from causaldag import MemoizedInvarianceTester, gauss_invariance_test, gauss_invariance_suffstat\n",
    "\n",
    "import numpy as np\n",
    "from pprint import pprint\n",
    "import random"
   ]
  },
  {
   "cell_type": "markdown",
   "metadata": {},
   "source": [
    "## UT-IGSP on random graph and intervention targets"
   ]
  },
  {
   "cell_type": "code",
   "execution_count": 2,
   "metadata": {
    "ExecuteTime": {
     "end_time": "2020-03-12T15:21:17.589676Z",
     "start_time": "2020-03-12T15:21:17.579098Z"
    }
   },
   "outputs": [],
   "source": [
    "np.random.seed(37645296)"
   ]
  },
  {
   "cell_type": "markdown",
   "metadata": {},
   "source": [
    "Generate a random DAG."
   ]
  },
  {
   "cell_type": "code",
   "execution_count": 3,
   "metadata": {
    "ExecuteTime": {
     "end_time": "2020-03-12T15:21:17.597959Z",
     "start_time": "2020-03-12T15:21:17.592275Z"
    }
   },
   "outputs": [],
   "source": [
    "nnodes = 10\n",
    "nodes = set(range(nnodes))\n",
    "exp_nbrs = 2\n",
    "d = cd.rand.directed_erdos(nnodes, exp_nbrs/(nnodes-1))"
   ]
  },
  {
   "cell_type": "markdown",
   "metadata": {},
   "source": [
    "Randomly assign edge weights."
   ]
  },
  {
   "cell_type": "code",
   "execution_count": 4,
   "metadata": {
    "ExecuteTime": {
     "end_time": "2020-03-12T15:21:17.608584Z",
     "start_time": "2020-03-12T15:21:17.602861Z"
    }
   },
   "outputs": [],
   "source": [
    "g = cd.rand.rand_weights(d)"
   ]
  },
  {
   "cell_type": "markdown",
   "metadata": {},
   "source": [
    "Choose random intervention targets."
   ]
  },
  {
   "cell_type": "code",
   "execution_count": 5,
   "metadata": {
    "ExecuteTime": {
     "end_time": "2020-03-12T15:21:17.617197Z",
     "start_time": "2020-03-12T15:21:17.611582Z"
    }
   },
   "outputs": [
    {
     "name": "stdout",
     "output_type": "stream",
     "text": [
      "[[5, 8], [4, 5]]\n"
     ]
    },
    {
     "name": "stderr",
     "output_type": "stream",
     "text": [
      "<ipython-input-5-44dcf2111005>:3: DeprecationWarning: Sampling from a set deprecated\n",
      "since Python 3.9 and will be removed in a subsequent version.\n",
      "  targets_list = [random.sample(nodes, num_targets) for _ in range(num_settings)]\n"
     ]
    }
   ],
   "source": [
    "num_targets = 2\n",
    "num_settings = 2\n",
    "targets_list = [random.sample(nodes, num_targets) for _ in range(num_settings)]\n",
    "print(targets_list)"
   ]
  },
  {
   "cell_type": "markdown",
   "metadata": {},
   "source": [
    "Generate observational data."
   ]
  },
  {
   "cell_type": "code",
   "execution_count": 6,
   "metadata": {
    "ExecuteTime": {
     "end_time": "2020-03-12T15:21:17.630011Z",
     "start_time": "2020-03-12T15:21:17.621409Z"
    }
   },
   "outputs": [],
   "source": [
    "nsamples_obs = 1000\n",
    "obs_samples = g.sample(nsamples_obs)"
   ]
  },
  {
   "cell_type": "markdown",
   "metadata": {},
   "source": [
    "Generate interventional data."
   ]
  },
  {
   "cell_type": "code",
   "execution_count": 7,
   "metadata": {
    "ExecuteTime": {
     "end_time": "2020-03-12T15:21:17.644946Z",
     "start_time": "2020-03-12T15:21:17.634180Z"
    }
   },
   "outputs": [],
   "source": [
    "iv_mean = 1\n",
    "iv_var = .1\n",
    "nsamples_iv = 1000\n",
    "ivs = [{target: cd.GaussIntervention(iv_mean, iv_var) for target in targets} for targets in targets_list]\n",
    "iv_samples_list = [g.sample_interventional(iv, nsamples_iv) for iv in ivs]"
   ]
  },
  {
   "cell_type": "markdown",
   "metadata": {},
   "source": [
    "Form sufficient statistics."
   ]
  },
  {
   "cell_type": "code",
   "execution_count": 8,
   "metadata": {
    "ExecuteTime": {
     "end_time": "2020-03-12T15:21:18.255627Z",
     "start_time": "2020-03-12T15:21:17.654776Z"
    }
   },
   "outputs": [],
   "source": [
    "obs_suffstat = partial_correlation_suffstat(obs_samples)\n",
    "invariance_suffstat = gauss_invariance_suffstat(obs_samples, iv_samples_list)"
   ]
  },
  {
   "cell_type": "markdown",
   "metadata": {},
   "source": [
    "Create CI and invariance tester objects."
   ]
  },
  {
   "cell_type": "code",
   "execution_count": 9,
   "metadata": {
    "ExecuteTime": {
     "end_time": "2020-03-12T15:21:18.264970Z",
     "start_time": "2020-03-12T15:21:18.258583Z"
    }
   },
   "outputs": [],
   "source": [
    "alpha = 1e-3\n",
    "alpha_inv = 1e-3\n",
    "ci_tester = MemoizedCI_Tester(partial_correlation_test, obs_suffstat, alpha=alpha)\n",
    "invariance_tester = MemoizedInvarianceTester(gauss_invariance_test, invariance_suffstat, alpha=alpha_inv)"
   ]
  },
  {
   "cell_type": "markdown",
   "metadata": {},
   "source": [
    "Run IGSP."
   ]
  },
  {
   "cell_type": "code",
   "execution_count": 10,
   "metadata": {
    "ExecuteTime": {
     "end_time": "2020-03-12T15:22:40.830105Z",
     "start_time": "2020-03-12T15:22:40.728040Z"
    }
   },
   "outputs": [],
   "source": [
    "setting_list = [dict(interventions=targets) for targets in targets_list]\n",
    "est_dag = igsp(setting_list, nodes, ci_tester, invariance_tester)"
   ]
  },
  {
   "cell_type": "markdown",
   "metadata": {},
   "source": [
    "Check performance."
   ]
  },
  {
   "cell_type": "code",
   "execution_count": 11,
   "metadata": {
    "ExecuteTime": {
     "end_time": "2020-03-12T15:22:51.471803Z",
     "start_time": "2020-03-12T15:22:51.463312Z"
    }
   },
   "outputs": [
    {
     "name": "stdout",
     "output_type": "stream",
     "text": [
      "0\n",
      "0\n"
     ]
    },
    {
     "name": "stderr",
     "output_type": "stream",
     "text": [
      "/usr/local/lib/python3.9/site-packages/graphical_models/custom_types.py:13: UserWarning: [Need name!] still needs to be tested. If you intend to use this method, please submit a pull request.\n",
      "  warn(s)\n"
     ]
    }
   ],
   "source": [
    "true_icpdag = d.interventional_cpdag(targets_list, cpdag=d.cpdag())\n",
    "est_icpdag = est_dag.interventional_cpdag(targets_list, cpdag=est_dag.cpdag())\n",
    "print(true_icpdag.shd(est_icpdag))\n",
    "print(true_icpdag.shd_skeleton(est_icpdag))"
   ]
  },
  {
   "cell_type": "code",
   "execution_count": null,
   "metadata": {},
   "outputs": [],
   "source": []
  }
 ],
 "metadata": {
  "@webio": {
   "lastCommId": null,
   "lastKernelId": null
  },
  "kernelspec": {
   "display_name": "Python 3",
   "language": "python",
   "name": "python3"
  },
  "language_info": {
   "codemirror_mode": {
    "name": "ipython",
    "version": 3
   },
   "file_extension": ".py",
   "mimetype": "text/x-python",
   "name": "python",
   "nbconvert_exporter": "python",
   "pygments_lexer": "ipython3",
   "version": "3.9.1"
  }
 },
 "nbformat": 4,
 "nbformat_minor": 2
}
