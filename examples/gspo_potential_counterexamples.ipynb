{
 "cells": [
  {
   "cell_type": "code",
   "execution_count": 9,
   "metadata": {},
   "outputs": [],
   "source": [
    "from causaldag import gspo\n",
    "from causaldag import MemoizedCI_Tester, msep_test, AncestralGraph"
   ]
  },
  {
   "cell_type": "code",
   "execution_count": 10,
   "metadata": {},
   "outputs": [],
   "source": [
    "bd5cycle = AncestralGraph(bidirected={(0, 1), (1, 2), (2, 3), (3, 4), (4, 0)})\n",
    "bd6cycle = AncestralGraph(bidirected={(0, 1), (1, 2), (2, 3), (3, 4), (4, 5), (5, 0)})\n",
    "bd6cycle_chord = AncestralGraph(bidirected={(0, 1), (1, 2), (2, 3), (3, 4), (4, 5), (5, 0), (0, 3)})\n",
    "bd5chain = AncestralGraph(bidirected={(0, 1), (1, 2), (2, 3), (3, 4)})\n",
    "bd6chain = AncestralGraph(bidirected={(0, 1), (1, 2), (2, 3), (3, 4), (4, 5)})\n",
    "bd7chain = AncestralGraph(bidirected={(0, 1), (1, 2), (2, 3), (3, 4), (4, 5), (5, 6)})\n",
    "\n",
    "graph_dict = dict(\n",
    "    bd5cycle=bd5cycle,\n",
    "    bd6cycle=bd6cycle,\n",
    "    bd6cycle_chord=bd6cycle_chord,\n",
    "    bd5chain=bd5chain,\n",
    "    bd6chain=bd6chain,\n",
    "    bd7chain=bd7chain,\n",
    ")"
   ]
  },
  {
   "cell_type": "code",
   "execution_count": 11,
   "metadata": {},
   "outputs": [
    {
     "name": "stdout",
     "output_type": "stream",
     "text": [
      "bd5cycle True\n",
      "bd6cycle True\n",
      "bd6cycle_chord True\n",
      "bd5chain True\n",
      "bd6chain True\n",
      "bd7chain True\n"
     ]
    }
   ],
   "source": [
    "for name, mag in graph_dict.items():\n",
    "    ci_tester = MemoizedCI_Tester(msep_test, mag)\n",
    "    est_mag = gspo(mag.nodes, ci_tester, depth=float(\"inf\"))\n",
    "\n",
    "    print(name, est_mag.markov_equivalent(mag))\n"
   ]
  },
  {
   "cell_type": "code",
   "execution_count": null,
   "metadata": {},
   "outputs": [],
   "source": []
  }
 ],
 "metadata": {
  "kernelspec": {
   "display_name": "venv",
   "language": "python",
   "name": "python3"
  },
  "language_info": {
   "codemirror_mode": {
    "name": "ipython",
    "version": 3
   },
   "file_extension": ".py",
   "mimetype": "text/x-python",
   "name": "python",
   "nbconvert_exporter": "python",
   "pygments_lexer": "ipython3",
   "version": "3.9.1"
  },
  "orig_nbformat": 4,
  "vscode": {
   "interpreter": {
    "hash": "1a417fccd9790440863e543ca3c8a373894a6ff70a28dada07a4cd1c9c126530"
   }
  }
 },
 "nbformat": 4,
 "nbformat_minor": 2
}
