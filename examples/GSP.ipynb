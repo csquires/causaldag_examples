{
 "cells": [
  {
   "cell_type": "code",
   "execution_count": 1,
   "metadata": {
    "ExecuteTime": {
     "end_time": "2019-05-07T18:53:49.039626Z",
     "start_time": "2019-05-07T18:53:46.973403Z"
    }
   },
   "outputs": [],
   "source": [
    "import causaldag as cd\n",
    "from causaldag.structure_learning import gsp\n",
    "from causaldag.utils.ci_tests import gauss_ci_test, MemoizedCI_Tester, gauss_ci_suffstat\n",
    "from causaldag.utils.ci_tests import hsic_test, dsep_test\n",
    "import numpy as np\n",
    "from pprint import pprint\n",
    "import random"
   ]
  },
  {
   "cell_type": "markdown",
   "metadata": {},
   "source": [
    "# GSP on known graph"
   ]
  },
  {
   "cell_type": "markdown",
   "metadata": {},
   "source": [
    "## Set up graph, samples, and correlation matrix"
   ]
  },
  {
   "cell_type": "markdown",
   "metadata": {},
   "source": [
    "Create the graph $0 \\rightarrow 1 \\leftarrow 2$"
   ]
  },
  {
   "cell_type": "code",
   "execution_count": 2,
   "metadata": {
    "ExecuteTime": {
     "end_time": "2019-05-07T18:53:51.296753Z",
     "start_time": "2019-05-07T18:53:51.291060Z"
    }
   },
   "outputs": [],
   "source": [
    "dag = cd.DAG(arcs={(0, 1), (2, 1)})"
   ]
  },
  {
   "cell_type": "markdown",
   "metadata": {},
   "source": [
    "Turn the graph into GaussDAG, which will allow us to sample from it. Use random edge weights to avoid faithfulness violation. By default, edge weights are sampled uniformly from $\\pm[.25, 1]$."
   ]
  },
  {
   "cell_type": "code",
   "execution_count": 3,
   "metadata": {
    "ExecuteTime": {
     "end_time": "2019-05-07T18:53:51.735867Z",
     "start_time": "2019-05-07T18:53:51.728591Z"
    }
   },
   "outputs": [],
   "source": [
    "gdag = cd.rand.rand_weights(dag)"
   ]
  },
  {
   "cell_type": "markdown",
   "metadata": {},
   "source": [
    "Take $n$ samples"
   ]
  },
  {
   "cell_type": "code",
   "execution_count": 4,
   "metadata": {
    "ExecuteTime": {
     "end_time": "2019-05-07T18:53:52.211622Z",
     "start_time": "2019-05-07T18:53:52.205892Z"
    }
   },
   "outputs": [],
   "source": [
    "nsamples = 500\n",
    "np.random.seed(1729)\n",
    "random.seed(1729)\n",
    "samples = gdag.sample(nsamples)"
   ]
  },
  {
   "cell_type": "markdown",
   "metadata": {},
   "source": [
    "Form the sufficient statistics dictionary for the CI test.\n",
    "\n",
    "*The gauss_ci test requires a correlation matrix and the number of samples. Adding the inverse correlation matrix and the partial correlation matrix to the dictionary of sufficient statistics is essential for improved speed when the number of nodes is large. gauss_ci_suffstat is a helper function that will do this work for you.*"
   ]
  },
  {
   "cell_type": "code",
   "execution_count": 5,
   "metadata": {
    "ExecuteTime": {
     "end_time": "2019-05-07T18:53:53.401816Z",
     "start_time": "2019-05-07T18:53:52.785889Z"
    }
   },
   "outputs": [],
   "source": [
    "suffstat = gauss_ci_suffstat(samples)"
   ]
  },
  {
   "cell_type": "markdown",
   "metadata": {},
   "source": [
    "## Run GSP and explore results"
   ]
  },
  {
   "cell_type": "code",
   "execution_count": 6,
   "metadata": {
    "ExecuteTime": {
     "end_time": "2019-05-07T18:53:53.467901Z",
     "start_time": "2019-05-07T18:53:53.460617Z"
    }
   },
   "outputs": [],
   "source": [
    "nnodes = 3\n",
    "nodes = set(range(nnodes))\n",
    "np.random.seed(1729)\n",
    "random.seed(1729)\n",
    "\n",
    "gauss_ci_tester = MemoizedCI_Tester(gauss_ci_test, suffstat, alpha=.05)\n",
    "est_dag_gauss, summaries_gauss = gsp(nodes, gauss_ci_tester, depth=4, nruns=2)\n",
    "\n",
    "oracle_ci_tester = MemoizedCI_Tester(dsep_test, dag)\n",
    "est_dag_oracle, summaries_oracle = gsp(nodes, oracle_ci_tester, depth=4, nruns=2)"
   ]
  },
  {
   "cell_type": "markdown",
   "metadata": {},
   "source": [
    "Print the result. The convention for displaying a DAG as a string follows pcalg/bnlearn in R: [i|j,k,l] means that j,k, and l are parents of i."
   ]
  },
  {
   "cell_type": "code",
   "execution_count": 7,
   "metadata": {
    "ExecuteTime": {
     "end_time": "2019-05-07T18:53:54.103805Z",
     "start_time": "2019-05-07T18:53:54.094739Z"
    }
   },
   "outputs": [
    {
     "name": "stdout",
     "output_type": "stream",
     "text": [
      "[2][0][1|0,2]\n"
     ]
    }
   ],
   "source": [
    "print(est_dag_gauss)"
   ]
  },
  {
   "cell_type": "code",
   "execution_count": 8,
   "metadata": {
    "ExecuteTime": {
     "end_time": "2019-05-07T18:53:54.333023Z",
     "start_time": "2019-05-07T18:53:54.326715Z"
    }
   },
   "outputs": [
    {
     "name": "stdout",
     "output_type": "stream",
     "text": [
      "[2][0][1|0,2]\n"
     ]
    }
   ],
   "source": [
    "print(est_dag_oracle)"
   ]
  },
  {
   "cell_type": "markdown",
   "metadata": {},
   "source": [
    "GSP returns the smallest DAG found over the course of multiple runs of the algorithm. `summaries` is a list containing details about each run. \n",
    "\n",
    "Each summary run's summary lists the DAGs in the order they were visited, their sparsity, and the search depth of the depth-first search procedure."
   ]
  },
  {
   "cell_type": "code",
   "execution_count": 9,
   "metadata": {
    "ExecuteTime": {
     "end_time": "2019-05-07T18:53:54.955953Z",
     "start_time": "2019-05-07T18:53:54.951700Z"
    }
   },
   "outputs": [
    {
     "name": "stdout",
     "output_type": "stream",
     "text": [
      "[{'dag': [2][0][1|0,2], 'depth': 0, 'num_arcs': 2}]\n"
     ]
    }
   ],
   "source": [
    "pprint(summaries_gauss[0])  # in this run, the starting DAG had no covered edges"
   ]
  },
  {
   "cell_type": "code",
   "execution_count": 10,
   "metadata": {
    "ExecuteTime": {
     "end_time": "2019-05-07T18:53:55.342938Z",
     "start_time": "2019-05-07T18:53:55.337124Z"
    }
   },
   "outputs": [
    {
     "name": "stdout",
     "output_type": "stream",
     "text": [
      "[{'dag': [0][1|0][2|1], 'depth': 0, 'num_arcs': 3},\n",
      " {'dag': [0][1|0][2|1], 'depth': 1, 'num_arcs': 3},\n",
      " {'dag': [0][1|0][2|1], 'depth': 2, 'num_arcs': 3},\n",
      " {'dag': [0][1|0][2|1], 'depth': 3, 'num_arcs': 3},\n",
      " {'dag': [0][1|0][2|1], 'depth': 0, 'num_arcs': 2},\n",
      " {'dag': [0][1|0][2|1], 'depth': 1, 'num_arcs': 2},\n",
      " {'dag': [0][1|0][2|1], 'depth': 2, 'num_arcs': 2},\n",
      " {'dag': [1][2|1][0|1], 'depth': 1, 'num_arcs': 2},\n",
      " {'dag': [2][1|2][0|1], 'depth': 0, 'num_arcs': 2}]\n"
     ]
    }
   ],
   "source": [
    "pprint(summaries_gauss[1])  # this run is less trivial"
   ]
  },
  {
   "cell_type": "markdown",
   "metadata": {},
   "source": [
    "Use the non-parametric HSIC test as the CI test. The sufficient statistic for this test is simply the data itself (note: in the future, this should be a dictionary for the sake of consistency)."
   ]
  },
  {
   "cell_type": "code",
   "execution_count": 11,
   "metadata": {
    "ExecuteTime": {
     "end_time": "2019-05-07T18:53:56.462706Z",
     "start_time": "2019-05-07T18:53:56.245519Z"
    }
   },
   "outputs": [],
   "source": [
    "np.random.seed(1729)\n",
    "random.seed(1729)\n",
    "hsic_tester = MemoizedCI_Tester(hsic_test, samples)\n",
    "est_dag_hsic, summaries_hsic = gsp(nodes, hsic_tester)"
   ]
  },
  {
   "cell_type": "code",
   "execution_count": 12,
   "metadata": {
    "ExecuteTime": {
     "end_time": "2019-05-07T18:53:56.657530Z",
     "start_time": "2019-05-07T18:53:56.653376Z"
    }
   },
   "outputs": [
    {
     "name": "stdout",
     "output_type": "stream",
     "text": [
      "[2][0][1|0,2]\n"
     ]
    }
   ],
   "source": [
    "print(est_dag_hsic)"
   ]
  },
  {
   "cell_type": "code",
   "execution_count": null,
   "metadata": {},
   "outputs": [],
   "source": []
  }
 ],
 "metadata": {
  "@webio": {
   "lastCommId": null,
   "lastKernelId": null
  },
  "kernelspec": {
   "display_name": "causaldag_examples",
   "language": "python",
   "name": "causaldag_examples"
  },
  "language_info": {
   "codemirror_mode": {
    "name": "ipython",
    "version": 3
   },
   "file_extension": ".py",
   "mimetype": "text/x-python",
   "name": "python",
   "nbconvert_exporter": "python",
   "pygments_lexer": "ipython3",
   "version": "3.6.5"
  }
 },
 "nbformat": 4,
 "nbformat_minor": 2
}
